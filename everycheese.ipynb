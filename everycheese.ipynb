{
 "cells": [
  {
   "cell_type": "markdown",
   "metadata": {},
   "source": [
    "# everycheese"
   ]
  },
  {
   "cell_type": "markdown",
   "metadata": {},
   "source": [
    "Méthode pour transférer le développement du projet django everycheese de Windows vers Ubuntu (en WSL)"
   ]
  },
  {
   "cell_type": "markdown",
   "metadata": {
    "toc": true
   },
   "source": [
    "<h1>Table of Contents<span class=\"tocSkip\"></span></h1>\n",
    "<div class=\"toc\"><ul class=\"toc-item\"><li><span><a href=\"#Contexte\" data-toc-modified-id=\"Contexte-1\"><span class=\"toc-item-num\">1&nbsp;&nbsp;</span>Contexte</a></span></li><li><span><a href=\"#WSL-2-Ubuntu\" data-toc-modified-id=\"WSL-2-Ubuntu-2\"><span class=\"toc-item-num\">2&nbsp;&nbsp;</span>WSL 2 Ubuntu</a></span></li><li><span><a href=\"#configuration-de-l'environnement-de-développement-sous-Ubuntu-(WSL)\" data-toc-modified-id=\"configuration-de-l'environnement-de-développement-sous-Ubuntu-(WSL)-3\"><span class=\"toc-item-num\">3&nbsp;&nbsp;</span>configuration de l'environnement de développement sous Ubuntu (WSL)</a></span><ul class=\"toc-item\"><li><span><a href=\"#Anaconda\" data-toc-modified-id=\"Anaconda-3.1\"><span class=\"toc-item-num\">3.1&nbsp;&nbsp;</span>Anaconda</a></span></li><li><span><a href=\"#VSCode\" data-toc-modified-id=\"VSCode-3.2\"><span class=\"toc-item-num\">3.2&nbsp;&nbsp;</span>VSCode</a></span></li><li><span><a href=\"#postgresql\" data-toc-modified-id=\"postgresql-3.3\"><span class=\"toc-item-num\">3.3&nbsp;&nbsp;</span>postgresql</a></span></li></ul></li><li><span><a href=\"#Git\" data-toc-modified-id=\"Git-4\"><span class=\"toc-item-num\">4&nbsp;&nbsp;</span>Git</a></span><ul class=\"toc-item\"><li><span><a href=\"#user\" data-toc-modified-id=\"user-4.1\"><span class=\"toc-item-num\">4.1&nbsp;&nbsp;</span>user</a></span></li><li><span><a href=\"#SSH-RSA\" data-toc-modified-id=\"SSH-RSA-4.2\"><span class=\"toc-item-num\">4.2&nbsp;&nbsp;</span>SSH RSA</a></span></li><li><span><a href=\"#GPG\" data-toc-modified-id=\"GPG-4.3\"><span class=\"toc-item-num\">4.3&nbsp;&nbsp;</span>GPG</a></span></li><li><span><a href=\"#Git-clone\" data-toc-modified-id=\"Git-clone-4.4\"><span class=\"toc-item-num\">4.4&nbsp;&nbsp;</span>Git clone</a></span></li></ul></li><li><span><a href=\"#Démarrage-projet-sous-ubuntu-WSL\" data-toc-modified-id=\"Démarrage-projet-sous-ubuntu-WSL-5\"><span class=\"toc-item-num\">5&nbsp;&nbsp;</span>Démarrage projet sous ubuntu WSL</a></span></li><li><span><a href=\"#Migrate-Errror\" data-toc-modified-id=\"Migrate-Errror-6\"><span class=\"toc-item-num\">6&nbsp;&nbsp;</span>Migrate Errror</a></span></li><li><span><a href=\"#Liens\" data-toc-modified-id=\"Liens-7\"><span class=\"toc-item-num\">7&nbsp;&nbsp;</span>Liens</a></span></li></ul></div>"
   ]
  },
  {
   "cell_type": "markdown",
   "metadata": {},
   "source": [
    "## Contexte"
   ]
  },
  {
   "cell_type": "markdown",
   "metadata": {},
   "source": [
    "Problème d'execution du script\n",
    ">createdb everycheese\n",
    "\n",
    "La base de donnée doit se créer automatiquement en réutilisant le nom de l'utilisateur Windows en cours.\n",
    "Mais si ce nom d'utilisateur comporte des accents le script ne fonctionne pas :\n",
    "\n",
    ">[Troubleshooting for createdb everycheese](https://github.com/roygreenfeld/django-crash-course/issues/31)"
   ]
  },
  {
   "cell_type": "markdown",
   "metadata": {},
   "source": [
    "Une des piste envisagées est de transférer le développement sur une distribution Linux installée directement sur Windows via WSL."
   ]
  },
  {
   "cell_type": "markdown",
   "metadata": {},
   "source": [
    "## WSL 2 Ubuntu"
   ]
  },
  {
   "cell_type": "markdown",
   "metadata": {},
   "source": [
    "Avez-vous une distribution d'installée sur windows ?\n",
    "```bash\n",
    "wsl -l -v\n",
    "```"
   ]
  },
  {
   "cell_type": "markdown",
   "metadata": {},
   "source": [
    "Si ce n'est pas le cas vous pouvez installer ubuntu directement depuis le Microsoft store\n",
    "* https://docs.microsoft.com/fr-fr/windows/wsl/wsl2-install"
   ]
  },
  {
   "cell_type": "markdown",
   "metadata": {},
   "source": [
    "## configuration de l'environnement de développement sous Ubuntu (WSL)"
   ]
  },
  {
   "cell_type": "markdown",
   "metadata": {},
   "source": [
    "commandes de mises à jour"
   ]
  },
  {
   "cell_type": "markdown",
   "metadata": {},
   "source": [
    "```bash\n",
    "sudo apt update\n",
    "sudo apt upgrade\n",
    "```"
   ]
  },
  {
   "cell_type": "markdown",
   "metadata": {},
   "source": [
    "### Anaconda"
   ]
  },
  {
   "cell_type": "markdown",
   "metadata": {},
   "source": [
    "```bash\n",
    "conda update --update-all\n",
    "anaconda-navigator\n",
    "```"
   ]
  },
  {
   "cell_type": "markdown",
   "metadata": {},
   "source": [
    "### VSCode"
   ]
  },
  {
   "cell_type": "markdown",
   "metadata": {},
   "source": [
    "```bash\n",
    "code --version\n",
    "```"
   ]
  },
  {
   "cell_type": "markdown",
   "metadata": {},
   "source": [
    "Si VSCode n'est pas installé vous pouvez le faire via l'interface d'anaconda\n",
    "```bash\n",
    "anaconda-navigator```"
   ]
  },
  {
   "cell_type": "markdown",
   "metadata": {},
   "source": [
    "### postgresql"
   ]
  },
  {
   "cell_type": "markdown",
   "metadata": {},
   "source": [
    "```bash\n",
    "sudo apt-get install wget ca-certificates\n",
    "wget --quiet -O - https://www.postgresql.org/media/keys/ACCC4CF8.asc | sudo apt-key add -\n",
    "sudo sh -c 'echo \"deb http://apt.postgresql.org/pub/repos/apt/ `lsb_release -cs`-pgdg main\">> /etc/apt/sources.list.d/pgdg.list'\n",
    "\n",
    "sudo apt-get update\n",
    "sudo apt-get install postgresql postgresql-contrib\n",
    "```"
   ]
  },
  {
   "cell_type": "markdown",
   "metadata": {},
   "source": [
    "```bash\n",
    "sudo passwd postgres```"
   ]
  },
  {
   "cell_type": "markdown",
   "metadata": {},
   "source": [
    "```bash\n",
    "sudo service postgresql start```"
   ]
  },
  {
   "cell_type": "markdown",
   "metadata": {},
   "source": [
    "```bash\n",
    "pg_ctlcluster 12 main start```"
   ]
  },
  {
   "cell_type": "markdown",
   "metadata": {},
   "source": [
    "```bash\n",
    "sudo -u postgres psql``"
   ]
  },
  {
   "cell_type": "markdown",
   "metadata": {},
   "source": [
    "## Git"
   ]
  },
  {
   "cell_type": "markdown",
   "metadata": {},
   "source": [
    "### user"
   ]
  },
  {
   "cell_type": "markdown",
   "metadata": {},
   "source": [
    "```bash\n",
    "git config -l```"
   ]
  },
  {
   "cell_type": "markdown",
   "metadata": {},
   "source": [
    "```bash\n",
    "git config --global user.name \"votre nom d'utilisateur\"\n",
    "git config --global user.email exemple@exemple.fr```\n"
   ]
  },
  {
   "cell_type": "markdown",
   "metadata": {},
   "source": [
    "### SSH RSA"
   ]
  },
  {
   "cell_type": "markdown",
   "metadata": {},
   "source": [
    "```bash\n",
    "cd /mnt/c/Users/utilisateur/```"
   ]
  },
  {
   "cell_type": "markdown",
   "metadata": {},
   "source": [
    "```bash\n",
    "cp id_rsa_github ~/.ssh/id_rsa_github```"
   ]
  },
  {
   "cell_type": "markdown",
   "metadata": {},
   "source": [
    "```bash\n",
    "cp id_rsa_github.pub ~/.ssh/id_rsa_github.pub```"
   ]
  },
  {
   "cell_type": "markdown",
   "metadata": {},
   "source": [
    "```bash\n",
    "ls ~/.ssh```"
   ]
  },
  {
   "cell_type": "markdown",
   "metadata": {},
   "source": [
    "```bash\n",
    "eval `ssh-agent`\n",
    "```"
   ]
  },
  {
   "cell_type": "markdown",
   "metadata": {},
   "source": [
    "```bash\n",
    "chmod 400 ~/.ssh/id_rsa_github```"
   ]
  },
  {
   "cell_type": "markdown",
   "metadata": {},
   "source": [
    "```bash\n",
    "chmod 600 ~/.ssh/id_rsa```"
   ]
  },
  {
   "cell_type": "markdown",
   "metadata": {},
   "source": [
    "```bash\n",
    "ssh-add ~/.ssh/id_rsa_github```"
   ]
  },
  {
   "cell_type": "markdown",
   "metadata": {},
   "source": [
    "```bash\n",
    "ssh -vT git@github.com\n",
    "ssh -T dromzee@github.com```"
   ]
  },
  {
   "cell_type": "markdown",
   "metadata": {},
   "source": [
    "### GPG"
   ]
  },
  {
   "cell_type": "markdown",
   "metadata": {},
   "source": [
    "Sous ubuntu\n",
    "\n",
    "```bash\n",
    "sudo apt remove gnupg gpg\n",
    "sudo apt install gnupg2```"
   ]
  },
  {
   "cell_type": "markdown",
   "metadata": {},
   "source": [
    "```bash\n",
    "git config --global commit.gpgsign true\n",
    "git config --global user.signingkey <PASTE_YOUR_KEY_ID_HERE>```"
   ]
  },
  {
   "cell_type": "markdown",
   "metadata": {},
   "source": [
    "```bash\n",
    "gpg --version```"
   ]
  },
  {
   "cell_type": "markdown",
   "metadata": {},
   "source": [
    "```bash\n",
    "gpg --list-secret-keys --keyid-format LONG```"
   ]
  },
  {
   "cell_type": "markdown",
   "metadata": {},
   "source": [
    "```bash\n",
    "gpg --import yourkeyname.asc```"
   ]
  },
  {
   "cell_type": "markdown",
   "metadata": {},
   "source": [
    "Exporter depuis windows le secret"
   ]
  },
  {
   "cell_type": "markdown",
   "metadata": {},
   "source": [
    "```bash\n",
    "gpg -a --export-secret-keys <votre_adresse_mail> > <un_nom_de_fichier.key>\n",
    "```"
   ]
  },
  {
   "cell_type": "markdown",
   "metadata": {},
   "source": [
    "```bash\n",
    "git config --global gpg.program gpg2\n",
    "```"
   ]
  },
  {
   "cell_type": "markdown",
   "metadata": {},
   "source": [
    "Si vous utilisez une passphrase il faut ajouter au .bashrc (home)"
   ]
  },
  {
   "cell_type": "markdown",
   "metadata": {},
   "source": [
    "```bash\n",
    "#enable passphrase prompt for gpg\n",
    "export GPG_TTY=$(tty)\n",
    "```"
   ]
  },
  {
   "cell_type": "code",
   "execution_count": null,
   "metadata": {},
   "outputs": [],
   "source": []
  },
  {
   "cell_type": "markdown",
   "metadata": {},
   "source": [
    "```bash\n",
    "echo “Test” | gpg --clear-sign\n",
    "```"
   ]
  },
  {
   "cell_type": "markdown",
   "metadata": {},
   "source": [
    "### Git clone"
   ]
  },
  {
   "cell_type": "markdown",
   "metadata": {},
   "source": [
    "```bash \n",
    "git clone git@github.com:DROMZEE/everycheese.git```"
   ]
  },
  {
   "cell_type": "markdown",
   "metadata": {},
   "source": [
    "## Démarrage projet sous ubuntu WSL"
   ]
  },
  {
   "cell_type": "markdown",
   "metadata": {},
   "source": [
    "```bash\n",
    "conda activate everycheese\n",
    "```"
   ]
  },
  {
   "cell_type": "markdown",
   "metadata": {},
   "source": [
    "```bash\n",
    "createdb everycheese\n",
    "```"
   ]
  },
  {
   "cell_type": "markdown",
   "metadata": {},
   "source": [
    "```bash\n",
    "sudo -u postgres psql\n",
    "```"
   ]
  },
  {
   "cell_type": "markdown",
   "metadata": {},
   "source": [
    "```bash\n",
    "psql -U postgres\n",
    "```"
   ]
  },
  {
   "cell_type": "markdown",
   "metadata": {},
   "source": [
    "```bash\n",
    "CREATE ROLE votre_username WITH CREATEDB LOGIN;\n",
    "#CREATE ROLE\n",
    "```"
   ]
  },
  {
   "cell_type": "markdown",
   "metadata": {},
   "source": [
    "```bash\n",
    "\\q\n",
    "```"
   ]
  },
  {
   "cell_type": "markdown",
   "metadata": {},
   "source": [
    "```bash\n",
    "createdb everycheese\n",
    "```"
   ]
  },
  {
   "cell_type": "markdown",
   "metadata": {},
   "source": [
    "```bash\n",
    "WARNING:  could not flush dirty data: Function not implemented\n",
    "```"
   ]
  },
  {
   "cell_type": "markdown",
   "metadata": {},
   "source": [
    "```bash\n",
    "sudo service postgresql start\n",
    "```"
   ]
  },
  {
   "cell_type": "markdown",
   "metadata": {},
   "source": [
    "```bash\n",
    "sudo service postgresql restart\n",
    "```"
   ]
  },
  {
   "cell_type": "markdown",
   "metadata": {},
   "source": [
    "```bash\n",
    "pip install -r requirements/local.txt\n",
    "```"
   ]
  },
  {
   "cell_type": "markdown",
   "metadata": {},
   "source": [
    "## Migrate Errror"
   ]
  },
  {
   "cell_type": "markdown",
   "metadata": {},
   "source": [
    "```bash\n",
    "python manage.py migrate\n",
    "```"
   ]
  },
  {
   "cell_type": "markdown",
   "metadata": {},
   "source": [
    " ```bash\n",
    " File \"/home/ubicd/anaconda3/envs/everycheese/lib/python3.8/site-packages/django/db/backends/base/base.py\", line 220, in ensure_connection\n",
    "    self.connect()\n",
    "  File \"/home/ubicd/anaconda3/envs/everycheese/lib/python3.8/site-packages/django/utils/asyncio.py\", line 26, in inner     return func(*args, **kwargs)\n",
    "  File \"/home/ubicd/anaconda3/envs/everycheese/lib/python3.8/site-packages/django/db/backends/base/base.py\", line 197, in connect\n",
    "    self.connection = self.get_new_connection(conn_params)\n",
    "  File \"/home/ubicd/anaconda3/envs/everycheese/lib/python3.8/site-packages/django/utils/asyncio.py\", line 26, in inner     return func(*args, **kwargs)\n",
    "  File \"/home/ubicd/anaconda3/envs/everycheese/lib/python3.8/site-packages/django/db/backends/postgresql/base.py\", line 185, in get_new_connection\n",
    "    connection = Database.connect(**conn_params)\n",
    "  File \"/home/ubicd/anaconda3/envs/everycheese/lib/python3.8/site-packages/psycopg2/__init__.py\", line 126, in connect     conn = _connect(dsn, connection_factory=connection_factory, **kwasync)\n",
    "psycopg2.OperationalError: could not connect to server: No such file or directory\n",
    "        Is the server running locally and accepting\n",
    "        connections on Unix domain socket \"/var/run/postgresql/.s.PGSQL.5432\"?\n",
    "\n",
    "\n",
    "The above exception was the direct cause of the following exception:\n",
    "\n",
    "Traceback (most recent call last):\n",
    "  File \"manage.py\", line 30, in <module>\n",
    "    execute_from_command_line(sys.argv)\n",
    "  File \"/home/ubicd/anaconda3/envs/everycheese/lib/python3.8/site-packages/django/core/management/__init__.py\", line 401, in execute_from_command_line\n",
    "    utility.execute()\n",
    "  File \"/home/ubicd/anaconda3/envs/everycheese/lib/python3.8/site-packages/django/core/management/__init__.py\", line 395, in execute\n",
    "    self.fetch_command(subcommand).run_from_argv(self.argv)\n",
    "  File \"/home/ubicd/anaconda3/envs/everycheese/lib/python3.8/site-packages/django/core/management/base.py\", line 328, in run_from_argv\n",
    "    self.execute(*args, **cmd_options)\n",
    "  File \"/home/ubicd/anaconda3/envs/everycheese/lib/python3.8/site-packages/django/core/management/base.py\", line 369, in execute\n",
    "    output = self.handle(*args, **options)\n",
    "  File \"/home/ubicd/anaconda3/envs/everycheese/lib/python3.8/site-packages/django/core/management/base.py\", line 83, in wrapped\n",
    "    res = handle_func(*args, **kwargs)\n",
    "  File \"/home/ubicd/anaconda3/envs/everycheese/lib/python3.8/site-packages/django/core/management/commands/migrate.py\", line 86, in handle\n",
    "    executor = MigrationExecutor(connection, self.migration_progress_callback)\n",
    "  File \"/home/ubicd/anaconda3/envs/everycheese/lib/python3.8/site-packages/django/db/migrations/executor.py\", line 18, in __init__\n",
    "    self.loader = MigrationLoader(self.connection)\n",
    "  File \"/home/ubicd/anaconda3/envs/everycheese/lib/python3.8/site-packages/django/db/migrations/loader.py\", line 49, in __init__\n",
    "    self.build_graph()\n",
    "  File \"/home/ubicd/anaconda3/envs/everycheese/lib/python3.8/site-packages/django/db/migrations/loader.py\", line 212, in build_graph\n",
    "    self.applied_migrations = recorder.applied_migrations()\n",
    "  File \"/home/ubicd/anaconda3/envs/everycheese/lib/python3.8/site-packages/django/db/migrations/recorder.py\", line 76, in applied_migrations\n",
    "    if self.has_table():\n",
    "  File \"/home/ubicd/anaconda3/envs/everycheese/lib/python3.8/site-packages/django/db/migrations/recorder.py\", line 56, in has_table\n",
    "    return self.Migration._meta.db_table in self.connection.introspection.table_names(self.connection.cursor())          File \"/home/ubicd/anaconda3/envs/everycheese/lib/python3.8/site-packages/django/utils/asyncio.py\", line 26, in inner     return func(*args, **kwargs)\n",
    "  File \"/home/ubicd/anaconda3/envs/everycheese/lib/python3.8/site-packages/django/db/backends/base/base.py\", line 260, in cursor\n",
    "    return self._cursor()\n",
    "  File \"/home/ubicd/anaconda3/envs/everycheese/lib/python3.8/site-packages/django/db/backends/base/base.py\", line 236, in _cursor\n",
    "    self.ensure_connection()\n",
    "  File \"/home/ubicd/anaconda3/envs/everycheese/lib/python3.8/site-packages/django/utils/asyncio.py\", line 26, in inner     return func(*args, **kwargs)\n",
    "  File \"/home/ubicd/anaconda3/envs/everycheese/lib/python3.8/site-packages/django/db/backends/base/base.py\", line 220, in ensure_connection\n",
    "    self.connect()\n",
    "  File \"/home/ubicd/anaconda3/envs/everycheese/lib/python3.8/site-packages/django/db/utils.py\", line 90, in __exit__       raise dj_exc_value.with_traceback(traceback) from exc_value\n",
    "  File \"/home/ubicd/anaconda3/envs/everycheese/lib/python3.8/site-packages/django/db/backends/base/base.py\", line 220, in ensure_connection\n",
    "    self.connect()\n",
    "  File \"/home/ubicd/anaconda3/envs/everycheese/lib/python3.8/site-packages/django/utils/asyncio.py\", line 26, in inner     return func(*args, **kwargs)\n",
    "  File \"/home/ubicd/anaconda3/envs/everycheese/lib/python3.8/site-packages/django/db/backends/base/base.py\", line 197, in connect\n",
    "    self.connection = self.get_new_connection(conn_params)\n",
    "  File \"/home/ubicd/anaconda3/envs/everycheese/lib/python3.8/site-packages/django/utils/asyncio.py\", line 26, in inner     return func(*args, **kwargs)\n",
    "  File \"/home/ubicd/anaconda3/envs/everycheese/lib/python3.8/site-packages/django/db/backends/postgresql/base.py\", line 185, in get_new_connection\n",
    "    connection = Database.connect(**conn_params)\n",
    "  File \"/home/ubicd/anaconda3/envs/everycheese/lib/python3.8/site-packages/psycopg2/__init__.py\", line 126, in connect     conn = _connect(dsn, connection_factory=connection_factory, **kwasync)\n",
    "django.db.utils.OperationalError: could not connect to server: No such file or directory\n",
    "        Is the server running locally and accepting\n",
    "        connections on Unix domain socket \"/var/run/postgresql/.s.PGSQL.5432\"?```"
   ]
  },
  {
   "cell_type": "markdown",
   "metadata": {},
   "source": [
    "## Liens"
   ]
  },
  {
   "cell_type": "markdown",
   "metadata": {},
   "source": [
    "* https://gist.github.com/roustem/2702553a5baa21bd3abd1becf951445b"
   ]
  },
  {
   "cell_type": "code",
   "execution_count": null,
   "metadata": {},
   "outputs": [],
   "source": []
  }
 ],
 "metadata": {
  "kernelspec": {
   "display_name": "Python 3",
   "language": "python",
   "name": "python3"
  },
  "language_info": {
   "codemirror_mode": {
    "name": "ipython",
    "version": 3
   },
   "file_extension": ".py",
   "mimetype": "text/x-python",
   "name": "python",
   "nbconvert_exporter": "python",
   "pygments_lexer": "ipython3",
   "version": "3.7.6"
  },
  "toc": {
   "base_numbering": 1,
   "nav_menu": {},
   "number_sections": true,
   "sideBar": true,
   "skip_h1_title": true,
   "title_cell": "Table of Contents",
   "title_sidebar": "Contents",
   "toc_cell": true,
   "toc_position": {},
   "toc_section_display": true,
   "toc_window_display": true
  }
 },
 "nbformat": 4,
 "nbformat_minor": 4
}
