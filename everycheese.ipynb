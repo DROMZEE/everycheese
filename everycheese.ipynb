{
 "cells": [
  {
   "cell_type": "markdown",
   "metadata": {},
   "source": [
    "# everycheese"
   ]
  },
  {
   "cell_type": "markdown",
   "metadata": {},
   "source": [
    "tranfert du projet de Windows vers Ubuntu en WSL"
   ]
  },
  {
   "cell_type": "markdown",
   "metadata": {
    "toc": true
   },
   "source": [
    "<h1>Table of Contents<span class=\"tocSkip\"></span></h1>\n",
    "<div class=\"toc\"><ul class=\"toc-item\"><li><span><a href=\"#Context\" data-toc-modified-id=\"Context-1\"><span class=\"toc-item-num\">1&nbsp;&nbsp;</span>Context</a></span></li><li><span><a href=\"#WSL-2-Ubuntu\" data-toc-modified-id=\"WSL-2-Ubuntu-2\"><span class=\"toc-item-num\">2&nbsp;&nbsp;</span>WSL 2 Ubuntu</a></span></li><li><span><a href=\"#configuration-de-l'environnement-sous-ubuntu\" data-toc-modified-id=\"configuration-de-l'environnement-sous-ubuntu-3\"><span class=\"toc-item-num\">3&nbsp;&nbsp;</span>configuration de l'environnement sous ubuntu</a></span><ul class=\"toc-item\"><li><span><a href=\"#Anaconda\" data-toc-modified-id=\"Anaconda-3.1\"><span class=\"toc-item-num\">3.1&nbsp;&nbsp;</span>Anaconda</a></span></li><li><span><a href=\"#VSCode\" data-toc-modified-id=\"VSCode-3.2\"><span class=\"toc-item-num\">3.2&nbsp;&nbsp;</span>VSCode</a></span></li><li><span><a href=\"#postgresql\" data-toc-modified-id=\"postgresql-3.3\"><span class=\"toc-item-num\">3.3&nbsp;&nbsp;</span>postgresql</a></span></li></ul></li><li><span><a href=\"#Git\" data-toc-modified-id=\"Git-4\"><span class=\"toc-item-num\">4&nbsp;&nbsp;</span>Git</a></span><ul class=\"toc-item\"><li><span><a href=\"#user\" data-toc-modified-id=\"user-4.1\"><span class=\"toc-item-num\">4.1&nbsp;&nbsp;</span>user</a></span></li><li><span><a href=\"#SSH-RSA\" data-toc-modified-id=\"SSH-RSA-4.2\"><span class=\"toc-item-num\">4.2&nbsp;&nbsp;</span>SSH RSA</a></span></li><li><span><a href=\"#GPG\" data-toc-modified-id=\"GPG-4.3\"><span class=\"toc-item-num\">4.3&nbsp;&nbsp;</span>GPG</a></span></li><li><span><a href=\"#Git-clone\" data-toc-modified-id=\"Git-clone-4.4\"><span class=\"toc-item-num\">4.4&nbsp;&nbsp;</span>Git clone</a></span></li></ul></li><li><span><a href=\"#Démarrage-projet-sous-ubuntu-WSL\" data-toc-modified-id=\"Démarrage-projet-sous-ubuntu-WSL-5\"><span class=\"toc-item-num\">5&nbsp;&nbsp;</span>Démarrage projet sous ubuntu WSL</a></span></li><li><span><a href=\"#Liens\" data-toc-modified-id=\"Liens-6\"><span class=\"toc-item-num\">6&nbsp;&nbsp;</span>Liens</a></span></li></ul></div>"
   ]
  },
  {
   "cell_type": "markdown",
   "metadata": {},
   "source": [
    "## Context"
   ]
  },
  {
   "cell_type": "markdown",
   "metadata": {},
   "source": [
    "Troubleshooting for createdb everycheese\n",
    "https://github.com/roygreenfeld/django-crash-course/issues/31"
   ]
  },
  {
   "cell_type": "markdown",
   "metadata": {},
   "source": [
    "## WSL 2 Ubuntu"
   ]
  },
  {
   "cell_type": "code",
   "execution_count": null,
   "metadata": {},
   "outputs": [],
   "source": [
    "sudo apt update\n",
    "sudo apt upgrade"
   ]
  },
  {
   "cell_type": "markdown",
   "metadata": {},
   "source": [
    "## configuration de l'environnement sous ubuntu"
   ]
  },
  {
   "cell_type": "markdown",
   "metadata": {},
   "source": [
    "### Anaconda"
   ]
  },
  {
   "cell_type": "raw",
   "metadata": {},
   "source": [
    "conda update --update-all\n",
    "anaconda-navigator"
   ]
  },
  {
   "cell_type": "markdown",
   "metadata": {},
   "source": [
    "### VSCode"
   ]
  },
  {
   "cell_type": "raw",
   "metadata": {},
   "source": [
    "code --version"
   ]
  },
  {
   "cell_type": "markdown",
   "metadata": {},
   "source": [
    "### postgresql"
   ]
  },
  {
   "cell_type": "raw",
   "metadata": {},
   "source": [
    "sudo apt-get install wget ca-certificates\n",
    "wget --quiet -O - https://www.postgresql.org/media/keys/ACCC4CF8.asc | sudo apt-key add -\n",
    "sudo sh -c 'echo \"deb http://apt.postgresql.org/pub/repos/apt/ `lsb_release -cs`-pgdg main\">> /etc/apt/sources.list.d/pgdg.list'\n",
    "\n",
    "sudo apt-get update\n",
    "sudo apt-get install postgresql postgresql-contrib"
   ]
  },
  {
   "cell_type": "code",
   "execution_count": null,
   "metadata": {},
   "outputs": [],
   "source": [
    "sudo passwd postgres"
   ]
  },
  {
   "cell_type": "code",
   "execution_count": null,
   "metadata": {},
   "outputs": [],
   "source": [
    "sudo service postgresql start"
   ]
  },
  {
   "cell_type": "code",
   "execution_count": null,
   "metadata": {},
   "outputs": [],
   "source": [
    "pg_ctlcluster 12 main start"
   ]
  },
  {
   "cell_type": "code",
   "execution_count": null,
   "metadata": {},
   "outputs": [],
   "source": [
    "sudo -u postgres psql"
   ]
  },
  {
   "cell_type": "markdown",
   "metadata": {},
   "source": [
    "## Git"
   ]
  },
  {
   "cell_type": "markdown",
   "metadata": {},
   "source": [
    "### user"
   ]
  },
  {
   "cell_type": "code",
   "execution_count": null,
   "metadata": {},
   "outputs": [],
   "source": [
    "git config -l"
   ]
  },
  {
   "cell_type": "raw",
   "metadata": {},
   "source": [
    "git config --global user.name \"votre nom d'utilisateur\"\n",
    "git config --global user.email exemple@exemple.fr"
   ]
  },
  {
   "cell_type": "markdown",
   "metadata": {},
   "source": [
    "### SSH RSA"
   ]
  },
  {
   "cell_type": "code",
   "execution_count": null,
   "metadata": {},
   "outputs": [],
   "source": [
    "cd /mnt/c/Users/utilisateur/"
   ]
  },
  {
   "cell_type": "code",
   "execution_count": null,
   "metadata": {},
   "outputs": [],
   "source": [
    "cp id_rsa_github ~/.ssh/id_rsa_github"
   ]
  },
  {
   "cell_type": "code",
   "execution_count": null,
   "metadata": {},
   "outputs": [],
   "source": [
    "cp id_rsa_github.pub ~/.ssh/id_rsa_github.pub"
   ]
  },
  {
   "cell_type": "code",
   "execution_count": null,
   "metadata": {},
   "outputs": [],
   "source": [
    "ls ~/.ssh"
   ]
  },
  {
   "cell_type": "code",
   "execution_count": null,
   "metadata": {},
   "outputs": [],
   "source": [
    "eval `ssh-agent`"
   ]
  },
  {
   "cell_type": "markdown",
   "metadata": {},
   "source": [
    "chmod 400 ~/.ssh/id_rsa_github"
   ]
  },
  {
   "cell_type": "code",
   "execution_count": null,
   "metadata": {},
   "outputs": [],
   "source": [
    "chmod 600 ~/.ssh/id_rsa"
   ]
  },
  {
   "cell_type": "code",
   "execution_count": null,
   "metadata": {},
   "outputs": [],
   "source": [
    "ssh-add ~/.ssh/id_rsa_github"
   ]
  },
  {
   "cell_type": "markdown",
   "metadata": {},
   "source": [
    "### GPG"
   ]
  },
  {
   "cell_type": "code",
   "execution_count": null,
   "metadata": {},
   "outputs": [],
   "source": [
    "sudo apt remove gnupg gpg\n",
    "sudo apt install gnupg2"
   ]
  },
  {
   "cell_type": "code",
   "execution_count": null,
   "metadata": {},
   "outputs": [],
   "source": [
    "gpg --version"
   ]
  },
  {
   "cell_type": "code",
   "execution_count": null,
   "metadata": {},
   "outputs": [],
   "source": [
    "gpg --list-secret-keys --keyid-format LONG"
   ]
  },
  {
   "cell_type": "code",
   "execution_count": null,
   "metadata": {},
   "outputs": [],
   "source": [
    "gpg --import yourkeyname.asc"
   ]
  },
  {
   "cell_type": "code",
   "execution_count": null,
   "metadata": {},
   "outputs": [],
   "source": [
    "git config --global commit.gpgsign true\n",
    "git config --global gpg.program /usr/bin/gpg\n",
    "git config --global user.signingkey <PASTE_YOUR_KEY_ID_HERE>"
   ]
  },
  {
   "cell_type": "code",
   "execution_count": null,
   "metadata": {},
   "outputs": [],
   "source": [
    "GPG_TTY=$(tty)\n",
    "export GPG_TTY"
   ]
  },
  {
   "cell_type": "code",
   "execution_count": null,
   "metadata": {},
   "outputs": [],
   "source": [
    "git config --global gpg.program gpg2"
   ]
  },
  {
   "cell_type": "code",
   "execution_count": null,
   "metadata": {},
   "outputs": [],
   "source": [
    "echo “Test” | gpg --clear-sign"
   ]
  },
  {
   "cell_type": "markdown",
   "metadata": {},
   "source": [
    "### Git clone"
   ]
  },
  {
   "cell_type": "code",
   "execution_count": null,
   "metadata": {},
   "outputs": [],
   "source": [
    "git clone git@github.com:DROMZEE/everycheese.git"
   ]
  },
  {
   "cell_type": "markdown",
   "metadata": {},
   "source": [
    "## Démarrage projet sous ubuntu WSL"
   ]
  },
  {
   "cell_type": "code",
   "execution_count": null,
   "metadata": {},
   "outputs": [],
   "source": [
    "conda activate everycheese"
   ]
  },
  {
   "cell_type": "code",
   "execution_count": null,
   "metadata": {},
   "outputs": [],
   "source": [
    "createdb everycheese"
   ]
  },
  {
   "cell_type": "code",
   "execution_count": null,
   "metadata": {},
   "outputs": [],
   "source": [
    "sudo -u postgres psql"
   ]
  },
  {
   "cell_type": "code",
   "execution_count": null,
   "metadata": {},
   "outputs": [],
   "source": [
    "psql -U postgres"
   ]
  },
  {
   "cell_type": "code",
   "execution_count": null,
   "metadata": {},
   "outputs": [],
   "source": [
    "CREATE ROLE votre_username WITH CREATEDB LOGIN;\n",
    "#CREATE ROLE"
   ]
  },
  {
   "cell_type": "code",
   "execution_count": null,
   "metadata": {},
   "outputs": [],
   "source": [
    "\\q"
   ]
  },
  {
   "cell_type": "code",
   "execution_count": null,
   "metadata": {},
   "outputs": [],
   "source": [
    "createdb everycheese"
   ]
  },
  {
   "cell_type": "code",
   "execution_count": null,
   "metadata": {},
   "outputs": [],
   "source": [
    "WARNING:  could not flush dirty data: Function not implemented"
   ]
  },
  {
   "cell_type": "code",
   "execution_count": null,
   "metadata": {},
   "outputs": [],
   "source": [
    "sudo service postgresql start"
   ]
  },
  {
   "cell_type": "code",
   "execution_count": null,
   "metadata": {},
   "outputs": [],
   "source": [
    "sudo service postgresql restart"
   ]
  },
  {
   "cell_type": "code",
   "execution_count": null,
   "metadata": {},
   "outputs": [],
   "source": [
    "pip install -r requirements/local.txt"
   ]
  },
  {
   "cell_type": "code",
   "execution_count": null,
   "metadata": {},
   "outputs": [],
   "source": [
    "python manage.py migrate"
   ]
  },
  {
   "cell_type": "markdown",
   "metadata": {},
   "source": [
    "## Liens"
   ]
  },
  {
   "cell_type": "markdown",
   "metadata": {},
   "source": [
    "* https://gist.github.com/roustem/2702553a5baa21bd3abd1becf951445b"
   ]
  },
  {
   "cell_type": "code",
   "execution_count": null,
   "metadata": {},
   "outputs": [],
   "source": []
  }
 ],
 "metadata": {
  "kernelspec": {
   "display_name": "Python 3",
   "language": "python",
   "name": "python3"
  },
  "language_info": {
   "codemirror_mode": {
    "name": "ipython",
    "version": 3
   },
   "file_extension": ".py",
   "mimetype": "text/x-python",
   "name": "python",
   "nbconvert_exporter": "python",
   "pygments_lexer": "ipython3",
   "version": "3.7.6"
  },
  "toc": {
   "base_numbering": 1,
   "nav_menu": {},
   "number_sections": true,
   "sideBar": true,
   "skip_h1_title": true,
   "title_cell": "Table of Contents",
   "title_sidebar": "Contents",
   "toc_cell": true,
   "toc_position": {},
   "toc_section_display": true,
   "toc_window_display": true
  }
 },
 "nbformat": 4,
 "nbformat_minor": 4
}
